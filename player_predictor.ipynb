{
 "cells": [
  {
   "cell_type": "code",
   "execution_count": 1,
   "metadata": {},
   "outputs": [],
   "source": [
    "import pandas as pd\n",
    "import numpy as np"
   ]
  },
  {
   "cell_type": "code",
   "execution_count": 2,
   "metadata": {},
   "outputs": [],
   "source": [
    "# Generate the keys to translate from player names to numbers\n",
    "df = pd.read_csv('./dataScraping/allPlayers.csv')\n",
    "\n",
    "# Fix string issue\n",
    "def fix_string_issue (col):\n",
    "  key = []\n",
    "  key = df[col].unique()\n",
    "\n",
    "  for i in range(0, len(df[col].unique())):\n",
    "    df.loc[df[col] == df[col].unique()[i], col] = i\n",
    "\n",
    "  return key\n",
    "\n",
    "pname_key = fix_string_issue('PLAYER')"
   ]
  },
  {
   "cell_type": "code",
   "execution_count": 3,
   "metadata": {},
   "outputs": [],
   "source": [
    "# Loading model\n",
    "import joblib\n",
    "\n",
    "def model_load():\n",
    "    model = joblib.load('game-sales.joblib') # Load model from game-sales.joblib"
   ]
  },
  {
   "cell_type": "code",
   "execution_count": 4,
   "metadata": {},
   "outputs": [],
   "source": [
    "# Predict specific player's performance\n",
    "\n",
    "def model_prediction (Player, Opp):\n",
    "    Player = np.where(pname_key == Player)\n",
    "    \n",
    "    # NEED LOGIC HERE TO GENERATE TEAM STATS FROM TEAM NAME\n",
    "    \n",
    "    return model.predict([[Player[0], W, L, Diff, OFFENSE: Pts/Poss, OFFENSE: eFG%, OFFENSE: TOV%, OFFENSE: ORB%, OFFENSE: FT Rate, DEFENSE: Pts/Poss, DEFENSE: eFG%, DEFENSE: TOV%, DEFENSE: ORB%, DEFENSE: FT Rate]])"
   ]
  },
  {
   "cell_type": "code",
   "execution_count": null,
   "metadata": {},
   "outputs": [],
   "source": []
  }
 ],
 "metadata": {
  "kernelspec": {
   "display_name": "Python 3",
   "language": "python",
   "name": "python3"
  },
  "language_info": {
   "codemirror_mode": {
    "name": "ipython",
    "version": 3
   },
   "file_extension": ".py",
   "mimetype": "text/x-python",
   "name": "python",
   "nbconvert_exporter": "python",
   "pygments_lexer": "ipython3",
   "version": "3.8.8"
  }
 },
 "nbformat": 4,
 "nbformat_minor": 2
}
