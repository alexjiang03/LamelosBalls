{
 "cells": [
  {
   "cell_type": "code",
   "execution_count": 1,
   "metadata": {},
   "outputs": [],
   "source": [
    "import pandas as pd\n",
    "import numpy as np\n",
    "from sklearn.ensemble import RandomForestRegressor"
   ]
  },
  {
   "cell_type": "code",
   "execution_count": 2,
   "metadata": {},
   "outputs": [],
   "source": [
    "# Generate the keys to translate from player names to numbers\n",
    "df = pd.read_csv('./dataScraping/allPlayers.csv')\n",
    "\n",
    "# Fix string issue\n",
    "def fix_string_issue (col):\n",
    "  key = []\n",
    "  key = df[col].unique()\n",
    "\n",
    "  for i in range(0, len(df[col].unique())):\n",
    "    df.loc[df[col] == df[col].unique()[i], col] = i\n",
    "\n",
    "  return key\n",
    "\n",
    "pname_key = fix_string_issue('PLAYER')"
   ]
  },
  {
   "cell_type": "code",
   "execution_count": 3,
   "metadata": {},
   "outputs": [],
   "source": [
    "# Loading model\n",
    "import joblib\n",
    "\n",
    "def model_load():\n",
    "    return joblib.load('player-stats.joblib') # Load model from game-sales.joblib"
   ]
  },
  {
   "cell_type": "code",
   "execution_count": 4,
   "metadata": {},
   "outputs": [],
   "source": [
    "# Load model\n",
    "model = model_load()"
   ]
  },
  {
   "cell_type": "code",
   "execution_count": 5,
   "metadata": {},
   "outputs": [],
   "source": [
    "# Predict specific player's performance\n",
    "\n",
    "def model_prediction (Player, Opp):\n",
    "    Player = np.where(pname_key == Player)\n",
    "    \n",
    "    oppstats = pd.read_csv('./dataScraping/teamData/league_four_factors_2024-02-02.csv')\n",
    "    oppstats = oppstats[oppstats['OPP'] == Opp].drop(columns=['OPP'])\n",
    "    \n",
    "    input_data = np.concatenate([Player[0], oppstats.values.flatten()])\n",
    "    \n",
    "    return model.predict([input_data])"
   ]
  },
  {
   "cell_type": "code",
   "execution_count": 15,
   "metadata": {},
   "outputs": [
    {
     "data": {
      "text/plain": [
       "array([[30.31927619,  4.54281429,  6.18493333,  3.78410238,  1.55019762,\n",
       "         0.79166667,  3.12343333, 22.44396667]])"
      ]
     },
     "execution_count": 15,
     "metadata": {},
     "output_type": "execute_result"
    }
   ],
   "source": [
    "model_prediction('stephen-curry', 'MEM')"
   ]
  },
  {
   "cell_type": "code",
   "execution_count": null,
   "metadata": {},
   "outputs": [],
   "source": []
  }
 ],
 "metadata": {
  "kernelspec": {
   "display_name": "Python 3",
   "language": "python",
   "name": "python3"
  },
  "language_info": {
   "codemirror_mode": {
    "name": "ipython",
    "version": 3
   },
   "file_extension": ".py",
   "mimetype": "text/x-python",
   "name": "python",
   "nbconvert_exporter": "python",
   "pygments_lexer": "ipython3",
   "version": "3.8.8"
  }
 },
 "nbformat": 4,
 "nbformat_minor": 2
}
